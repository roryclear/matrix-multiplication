{
  "nbformat": 4,
  "nbformat_minor": 0,
  "metadata": {
    "colab": {
      "provenance": []
    },
    "kernelspec": {
      "name": "python3",
      "display_name": "Python 3"
    },
    "language_info": {
      "name": "python"
    }
  },
  "cells": [
    {
      "cell_type": "code",
      "execution_count": 7,
      "metadata": {
        "id": "WfGJQtzuCc6n"
      },
      "outputs": [],
      "source": [
        "import torch\n",
        "import time"
      ]
    },
    {
      "cell_type": "code",
      "source": [
        "#pytorch cpu\n",
        "\n",
        "n = 100\n",
        "m1 = torch.randn(n,n)\n",
        "m2 = torch.randn(n,n)\n",
        "\n",
        "start_time = time.time()\n",
        "for i in range(10000):\n",
        "  torch.matmul(m1,m2)\n",
        "\n",
        "t = time.time() - start_time\n",
        "print(\"pytorch cpu time =\",t)\n",
        "\n",
        "n = 200\n",
        "m1 = torch.randn(n,n)\n",
        "m2 = torch.randn(n,n)\n",
        "\n",
        "start_time = time.time()\n",
        "for i in range(10000):\n",
        "  torch.matmul(m1,m2)\n",
        "\n",
        "t = time.time() - start_time\n",
        "print(\"pytorch cpu time =\",t)"
      ],
      "metadata": {
        "colab": {
          "base_uri": "https://localhost:8080/"
        },
        "id": "IG1RX5icCpqI",
        "outputId": "bceef7c8-3a7f-4a29-9454-b2012c806302"
      },
      "execution_count": 10,
      "outputs": [
        {
          "output_type": "stream",
          "name": "stdout",
          "text": [
            "pytorch cpu time = 2.0638294219970703\n",
            "pytorch cpu time = 7.03907585144043\n"
          ]
        }
      ]
    }
  ]
}